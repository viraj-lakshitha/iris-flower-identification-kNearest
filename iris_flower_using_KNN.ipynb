{
  "nbformat": 4,
  "nbformat_minor": 0,
  "metadata": {
    "colab": {
      "name": "iris-flower-using-KNN.ipynb",
      "provenance": [],
      "authorship_tag": "ABX9TyPA7WT6MTPsqx1Vn/trxUfb",
      "include_colab_link": true
    },
    "kernelspec": {
      "name": "python3",
      "display_name": "Python 3"
    }
  },
  "cells": [
    {
      "cell_type": "markdown",
      "metadata": {
        "id": "view-in-github",
        "colab_type": "text"
      },
      "source": [
        "<a href=\"https://colab.research.google.com/github/viraj-lakshitha/iris-flower-identification-kNearest/blob/main/iris_flower_using_KNN.ipynb\" target=\"_parent\"><img src=\"https://colab.research.google.com/assets/colab-badge.svg\" alt=\"Open In Colab\"/></a>"
      ]
    },
    {
      "cell_type": "markdown",
      "metadata": {
        "id": "tBKPYa7UCyBT"
      },
      "source": [
        "## Iris Flower Identification Machine Learning Model using KNN Algorithum"
      ]
    },
    {
      "cell_type": "markdown",
      "metadata": {
        "id": "bVo5nILHHid2"
      },
      "source": [
        "Upload .csv file to the Colabs"
      ]
    },
    {
      "cell_type": "code",
      "metadata": {
        "id": "VlabT19-Cu-I"
      },
      "source": [
        "from google.colab import files \r\n",
        "\r\n",
        "uploaded = files.upload()"
      ],
      "execution_count": null,
      "outputs": []
    },
    {
      "cell_type": "markdown",
      "metadata": {
        "id": "yEb3-UPJHmpL"
      },
      "source": [
        "Read the Datset into array"
      ]
    },
    {
      "cell_type": "code",
      "metadata": {
        "id": "E_Tg1rvJDxjv"
      },
      "source": [
        "import pandas as pd\r\n",
        "\r\n",
        "dataset = pd.read_csv('iris.csv').values\r\n",
        "\r\n",
        "print(dataset)"
      ],
      "execution_count": null,
      "outputs": []
    },
    {
      "cell_type": "markdown",
      "metadata": {
        "id": "gDR5UrStEr9T"
      },
      "source": [
        "Break Data and Target into List"
      ]
    },
    {
      "cell_type": "code",
      "metadata": {
        "id": "0eHedSkIEGzp"
      },
      "source": [
        "data=dataset[:,0:4]\r\n",
        "target=dataset[:,4]"
      ],
      "execution_count": 29,
      "outputs": []
    },
    {
      "cell_type": "code",
      "metadata": {
        "id": "i4Pe-zdiElvu"
      },
      "source": [
        "print(data)"
      ],
      "execution_count": null,
      "outputs": []
    },
    {
      "cell_type": "code",
      "metadata": {
        "id": "rbBlG5lLEoOd"
      },
      "source": [
        "print(target)"
      ],
      "execution_count": null,
      "outputs": []
    },
    {
      "cell_type": "markdown",
      "metadata": {
        "id": "IkiwT0QVFAim"
      },
      "source": [
        "Implementation of Algorithum "
      ]
    },
    {
      "cell_type": "code",
      "metadata": {
        "id": "zhrsJvCVEyB9"
      },
      "source": [
        "from sklearn.neighbors import KNeighborsClassifier\r\n",
        "\r\n",
        "model=KNeighborsClassifier() #Load the Algorithum as Model"
      ],
      "execution_count": 32,
      "outputs": []
    },
    {
      "cell_type": "markdown",
      "metadata": {
        "id": "uRt1jnisFZw2"
      },
      "source": [
        "Method of Evaluation\r\n",
        "\r\n",
        "* Training the Algorithum 70%\r\n",
        "* Test the Dataset 30 %"
      ]
    },
    {
      "cell_type": "code",
      "metadata": {
        "id": "qbNP1omBGVrm"
      },
      "source": [
        "from sklearn.model_selection import train_test_split\r\n",
        "\r\n",
        "train_data,test_data,train_target,test_target=train_test_split(data,target,test_size=0.3)"
      ],
      "execution_count": 33,
      "outputs": []
    },
    {
      "cell_type": "markdown",
      "metadata": {
        "id": "X6IK2LEGH4Zv"
      },
      "source": [
        "Train Data and Train Target"
      ]
    },
    {
      "cell_type": "code",
      "metadata": {
        "id": "PJ9qFWnIH9xz"
      },
      "source": [
        "model.fit(train_data,train_target)"
      ],
      "execution_count": null,
      "outputs": []
    },
    {
      "cell_type": "code",
      "metadata": {
        "id": "dJtwkQFRIFCX"
      },
      "source": [
        "# Evaluate the Model\r\n",
        "predicted_target=model.predict(test_data)"
      ],
      "execution_count": 35,
      "outputs": []
    },
    {
      "cell_type": "code",
      "metadata": {
        "id": "bJh0YzqGIdcS"
      },
      "source": [
        "print('Actual : ',test_target)\r\n",
        "print('Predicted : ',predicted_target)"
      ],
      "execution_count": null,
      "outputs": []
    },
    {
      "cell_type": "code",
      "metadata": {
        "id": "mgC1RM67I0Mf"
      },
      "source": [
        "from sklearn.metrics import accuracy_score\r\n",
        "\r\n",
        "acc=accuracy_score(test_target,predicted_target)\r\n",
        "print('Accuracy of the Model : ',acc)"
      ],
      "execution_count": null,
      "outputs": []
    },
    {
      "cell_type": "markdown",
      "metadata": {
        "id": "307Uv_DIJ-ze"
      },
      "source": [
        "Future Prediction"
      ]
    },
    {
      "cell_type": "code",
      "metadata": {
        "id": "bSYuQfXzJjG_"
      },
      "source": [
        "result=model.predict([[5.7,2.1,4.2,1.1,]])\r\n",
        "print(result)"
      ],
      "execution_count": null,
      "outputs": []
    },
    {
      "cell_type": "markdown",
      "metadata": {
        "id": "VWf849i6KUAY"
      },
      "source": [
        "Save model for future use"
      ]
    },
    {
      "cell_type": "code",
      "metadata": {
        "id": "XBwlYLM-KEIb"
      },
      "source": [
        "import joblib\r\n",
        "\r\n",
        "joblib.dump(model,\"iris-flower-model.sav\")"
      ],
      "execution_count": null,
      "outputs": []
    }
  ]
}